{
 "cells": [
  {
   "cell_type": "markdown",
   "id": "5e6a63d0-f95c-4f3a-a8f9-141eaa619051",
   "metadata": {},
   "source": [
    "### XAMPP Tunnel (NO PW!)"
   ]
  },
  {
   "cell_type": "code",
   "execution_count": null,
   "id": "31a91f7a-3bfb-407d-ac42-d80b5f560965",
   "metadata": {},
   "outputs": [],
   "source": [
    "from tnamodules.tunnel import *\n",
    "jtunnel_xampp = JupyterTunnel(port=80)"
   ]
  },
  {
   "cell_type": "code",
   "execution_count": null,
   "id": "0a4354ba-55a4-49ab-9aaa-02d986f133c3",
   "metadata": {},
   "outputs": [],
   "source": [
    "jtunnel_xampp.stop_tunnel()"
   ]
  },
  {
   "cell_type": "markdown",
   "id": "c702b105",
   "metadata": {},
   "source": [
    "### Jupyter Tunnel (with Token)"
   ]
  },
  {
   "cell_type": "code",
   "execution_count": null,
   "id": "5b1425e4",
   "metadata": {},
   "outputs": [],
   "source": [
    "from tnamodules.tunnel import *\n",
    "jtunnel = JupyterTunnel()"
   ]
  },
  {
   "cell_type": "code",
   "execution_count": null,
   "id": "b32d5b2d",
   "metadata": {},
   "outputs": [],
   "source": [
    "jtunnel.stop_tunnel()"
   ]
  }
 ],
 "metadata": {
  "kernelspec": {
   "display_name": "Python 3 (ipykernel)",
   "language": "python",
   "name": "python3"
  },
  "language_info": {
   "codemirror_mode": {
    "name": "ipython",
    "version": 3
   },
   "file_extension": ".py",
   "mimetype": "text/x-python",
   "name": "python",
   "nbconvert_exporter": "python",
   "pygments_lexer": "ipython3",
   "version": "3.8.13"
  }
 },
 "nbformat": 4,
 "nbformat_minor": 5
}
